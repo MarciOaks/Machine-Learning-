{
  "nbformat": 4,
  "nbformat_minor": 0,
  "metadata": {
    "colab": {
      "name": " Proy. MNIST.ipynb",
      "provenance": []
    },
    "kernelspec": {
      "name": "python3",
      "display_name": "Python 3"
    }
  },
  "cells": [
    {
      "cell_type": "code",
      "metadata": {
        "id": "luUun9eFywI5",
        "colab_type": "code",
        "colab": {}
      },
      "source": [
        "#LIBRERIAS\n",
        "import tensorflow as tf\n",
        "import matplotlib.pyplot as plt\n",
        "import numpy as np"
      ],
      "execution_count": 0,
      "outputs": []
    },
    {
      "cell_type": "code",
      "metadata": {
        "id": "mj3bGD-UhqhC",
        "colab_type": "code",
        "colab": {}
      },
      "source": [
        "#DATASET MINST\n",
        "mnist = tf.keras.datasets.mnist"
      ],
      "execution_count": 0,
      "outputs": []
    },
    {
      "cell_type": "code",
      "metadata": {
        "id": "MaMsAmRwh1qH",
        "colab_type": "code",
        "colab": {}
      },
      "source": [
        "#MUESTRAS DEL DATASET\n",
        "(x_train, y_train), (x_test, y_test) = mnist.load_data()\n",
        "x_train, x_test = x_train / 255.0, x_test/255"
      ],
      "execution_count": 0,
      "outputs": []
    },
    {
      "cell_type": "code",
      "metadata": {
        "id": "5Lo-Zpz4iI7s",
        "colab_type": "code",
        "colab": {}
      },
      "source": [
        "#CARGAR EL TIPO DE MODELO Y SUS CAPAS CON SUS RESPECTIVAS ACTIVACIONES\n",
        "model = tf. keras.models.Sequential([\n",
        "  tf.keras.layers.Flatten(input_shape=(28,28)),\n",
        "  tf.keras.layers.Dense(128, activation = 'relu'),\n",
        "  tf.keras.layers.Dense(10, activation = 'softmax')\n",
        "])"
      ],
      "execution_count": 0,
      "outputs": []
    },
    {
      "cell_type": "code",
      "metadata": {
        "id": "kTv7CpJuiPjH",
        "colab_type": "code",
        "colab": {}
      },
      "source": [
        "#ALGORITMOS DE OPTIMIZACIÓN Y FUNCIÓN DE COSTE\n",
        "model.compile(optimizer='adam',\n",
        "              loss = 'sparse_categorical_crossentropy',\n",
        "              metrics = ['accuracy'] )"
      ],
      "execution_count": 0,
      "outputs": []
    },
    {
      "cell_type": "code",
      "metadata": {
        "id": "Jy0qLVFLnOwo",
        "colab_type": "code",
        "outputId": "2bff39eb-fabe-4c35-dc8f-cc0928b577b5",
        "colab": {
          "base_uri": "https://localhost:8080/",
          "height": 258
        }
      },
      "source": [
        "#ENTRENAMIENTO\n",
        "model.fit(x_train, y_train, epochs = 5)\n",
        "model.evaluate (x_test, y_test)"
      ],
      "execution_count": 0,
      "outputs": [
        {
          "output_type": "stream",
          "text": [
            "Train on 60000 samples\n",
            "Epoch 1/5\n",
            "60000/60000 [==============================] - 5s 75us/sample - loss: 0.2614 - acc: 0.9251\n",
            "Epoch 2/5\n",
            "60000/60000 [==============================] - 5s 79us/sample - loss: 0.1151 - acc: 0.9656\n",
            "Epoch 3/5\n",
            "60000/60000 [==============================] - 4s 73us/sample - loss: 0.0790 - acc: 0.9763\n",
            "Epoch 4/5\n",
            "60000/60000 [==============================] - 4s 72us/sample - loss: 0.0596 - acc: 0.9815\n",
            "Epoch 5/5\n",
            "60000/60000 [==============================] - 4s 70us/sample - loss: 0.0454 - acc: 0.9863\n",
            "10000/10000 [==============================] - 0s 34us/sample - loss: 0.0736 - acc: 0.9783\n"
          ],
          "name": "stdout"
        },
        {
          "output_type": "execute_result",
          "data": {
            "text/plain": [
              "[0.07355360417099437, 0.9783]"
            ]
          },
          "metadata": {
            "tags": []
          },
          "execution_count": 6
        }
      ]
    },
    {
      "cell_type": "code",
      "metadata": {
        "id": "ZbISMqmTZVUU",
        "colab_type": "code",
        "outputId": "8c1b4c2b-4603-4b93-f5fe-64e479f7a4f0",
        "colab": {
          "base_uri": "https://localhost:8080/",
          "height": 1000
        }
      },
      "source": [
        "#VISUALIZACIÓN DEL TEST\n",
        "#CINCO MUESTRAS ALEATORIAS DEL TEST Y SU RESULTADO\n",
        "predict = model.predict(x_test)\n",
        "for i in range(5):\n",
        "  n = np.random.randint(low=1, high= 10000) \n",
        "  ans = predict[n].tolist().index(max(predict[n].tolist()))\n",
        "  plt.imshow(x_test[n], cmap='Greys')\n",
        "  print(\"El resultado predicho es\",ans)\n",
        "  plt.show()\n",
        "\n"
      ],
      "execution_count": 0,
      "outputs": [
        {
          "output_type": "stream",
          "text": [
            "El resultado predicho es 6\n"
          ],
          "name": "stdout"
        },
        {
          "output_type": "display_data",
          "data": {
            "image/png": "[encoded data removed]",
            "text/plain": [
              "<Figure size 432x288 with 1 Axes>"
            ]
          },
          "metadata": {
            "tags": []
          }
        },
        {
          "output_type": "stream",
          "text": [
            "El resultado predicho es 5\n"
          ],
          "name": "stdout"
        },
        {
          "output_type": "display_data",
          "data": {
            "image/png": "[encoded data removed]",
            "text/plain": [
              "<Figure size 432x288 with 1 Axes>"
            ]
          },
          "metadata": {
            "tags": []
          }
        },
        {
          "output_type": "stream",
          "text": [
            "El resultado predicho es 0\n"
          ],
          "name": "stdout"
        },
        {
          "output_type": "display_data",
          "data": {
            "image/png": "[encoded data removed]",
            "text/plain": [
              "<Figure size 432x288 with 1 Axes>"
            ]
          },
          "metadata": {
            "tags": []
          }
        },
        {
          "output_type": "stream",
          "text": [
            "El resultado predicho es 0\n"
          ],
          "name": "stdout"
        },
        {
          "output_type": "display_data",
          "data": {
            "image/png": "[encoded data removed]",
            "text/plain": [
              "<Figure size 432x288 with 1 Axes>"
            ]
          },
          "metadata": {
            "tags": []
          }
        },
        {
          "output_type": "stream",
          "text": [
            "El resultado predicho es 8\n"
          ],
          "name": "stdout"
        },
        {
          "output_type": "display_data",
          "data": {
            "image/png": "[encoded data removed]",
            "text/plain": [
              "<Figure size 432x288 with 1 Axes>"
            ]
          },
          "metadata": {
            "tags": []
          }
        }
      ]
    },
    {
      "cell_type": "code",
      "metadata": {
        "id": "YeM8cnRM0bJG",
        "colab_type": "code",
        "colab": {}
      },
      "source": [
        "#GUARDAR EL MODELO\n",
        "model.save(\"SavedModel.h5\")"
      ],
      "execution_count": 0,
      "outputs": []
    }
  ]
}